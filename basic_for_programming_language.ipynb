{
  "nbformat": 4,
  "nbformat_minor": 0,
  "metadata": {
    "colab": {
      "name": "basic for programming language.ipynb",
      "provenance": [],
      "collapsed_sections": [],
      "authorship_tag": "ABX9TyPixaRz2NXzEFDJbF0qXCzv",
      "include_colab_link": true
    },
    "kernelspec": {
      "name": "python3",
      "display_name": "Python 3"
    },
    "language_info": {
      "name": "python"
    }
  },
  "cells": [
    {
      "cell_type": "markdown",
      "metadata": {
        "id": "view-in-github",
        "colab_type": "text"
      },
      "source": [
        "<a href=\"https://colab.research.google.com/github/veerapandi-14/python/blob/main/basic_for_programming_language.ipynb\" target=\"_parent\"><img src=\"https://colab.research.google.com/assets/colab-badge.svg\" alt=\"Open In Colab\"/></a>"
      ]
    },
    {
      "cell_type": "code",
      "metadata": {
        "id": "ZGRDCm8ztybf"
      },
      "source": [
        ""
      ],
      "execution_count": null,
      "outputs": []
    },
    {
      "cell_type": "markdown",
      "metadata": {
        "id": "XVyFJsOvtz-J"
      },
      "source": [
        "**Introduction to Python and computer programming:**<br>\n",
        "      The fundamentals of computer programming, how the computer works,<br>how the program is executed, how the programming language is defined and constructed.<br>\n",
        "      The difference between compilation and interpretation\n"
      ]
    },
    {
      "cell_type": "markdown",
      "metadata": {
        "id": "haHHAiYAupLG"
      },
      "source": [
        "**How does a computer program work?**<br>\n",
        "accept a number representing the distance;<br>\n",
        "accept a number representing the travel time;<br>\n",
        "divide the former value by the latter and store the result in the memory;<br>\n",
        "display the result (representing the average speed) in a readable format.<br>"
      ]
    },
    {
      "cell_type": "markdown",
      "metadata": {
        "id": "WrzpRODZwjQ8"
      },
      "source": [
        "**Natural languages vs. programming languages**<br>\n",
        "A complete set of known commands is called an **instruction list**, sometimes abbreviated to IL. <br>New words are created every day and old words disappear. These languages are called natural languages<br>Computers have their own language, too, called machine language, which is very rudimentary."
      ]
    },
    {
      "cell_type": "markdown",
      "metadata": {
        "id": "fqrZxEPdx3LF"
      },
      "source": [
        "**What makes a language?**<br>4 sense :<br>\n",
        "an alphabet<br>a lexis<br>a syntax<br>semantics<br> <br>program written in a high-level programming language is called a source code (in contrast to the machine code executed by computers). Similarly, the file containing the source code is called the source file."
      ]
    },
    {
      "cell_type": "markdown",
      "metadata": {
        "id": "4BpegjBqy8Gy"
      },
      "source": [
        "**Compilation vs. interpretation**<br>COMPILATION - the source program is translated once (however, this act must be repeated each time you modify the source code) by getting a file (e.g., an .exe file if the code is intended to be run under MS Windows) containing the machine code; now you can distribute the file worldwide; the program that performs this translation is called a compiler or translator.<br>INTERPRETATION - you (or any user of the code) can translate the source program each time it has to be run; the program performing this kind of transformation is called an interpreter, as it interprets the code every time it is intended to be executed; it also means that you cannot just distribute the source code as-is, because the end-user also needs the interpreter to execute it.<br>\n"
      ]
    },
    {
      "cell_type": "markdown",
      "metadata": {
        "id": "8blICpoD0MFQ"
      },
      "source": [
        "**What does the interpreter actually do?**<br>a computer program is actually a piece of text, so the source code is usually placed in text files.\n",
        "<br>If the compiler finds an error, it finishes its work immediately. The only result in this case is an error message.\n",
        "\n",
        "The interpreter will inform you where the error is located and what caused it<br>**which is better?The \"compiling\" model or the \"interpreting\" model?** \n",
        "\n",
        "There is no obvious answer. If there had been, one of these models would have ceased to exist a long time ago. Both of them have their advantages and their disadvantages.\n",
        "<br><br>"
      ]
    },
    {
      "cell_type": "markdown",
      "metadata": {
        "id": "j4oRgAZa2GBB"
      },
      "source": [
        "**What is python?**\n",
        "<br>Python is a widely-used, interpreted, object-oriented, and high-level programming language with dynamic semantics, used for general-purpose programming.<br>\n",
        "**Who created Python?**<br>\n",
        " Python was created by Guido van Rossum, born in 1956 in Haarlem, the Netherlands. Of course, Guido van Rossum did not develop and evolve all the Python components himself.<br>\n",
        "\n",
        "*** Python goals***\n",
        "\n",
        "In 1999, Guido van Rossum defined his goals for Python:\n",
        "\n",
        "an easy and intuitive language just as powerful as those of the major competitors;\n",
        "open source, so anyone can contribute to its development;\n",
        "code that is as understandable as plain English;\n",
        "suitable for everyday tasks, allowing for short development times.\n"
      ]
    },
    {
      "cell_type": "markdown",
      "metadata": {
        "id": "e6GnUxfu33U7"
      },
      "source": [
        "**What makes Python special?** <br>\n",
        "\n",
        "* easy learn  \n",
        "*easy to teach\n",
        "*  easy to use\n",
        "*   easy to understand\n",
        "*   easy to obtain, install and deploy\n",
        "\n"
      ]
    },
    {
      "cell_type": "markdown",
      "metadata": {
        "id": "8b78ADuu4aAx"
      },
      "source": [
        "**Python rivals?**<br>\n",
        "Python has two direct competitors, with comparable properties and predispositions. These are:\n",
        "\n",
        "Perl - a scripting language originally authored by Larry Wall;\n",
        "Ruby - a scripting language originally authored by Yukihiro Matsumoto.<br>\n",
        "**versions and types**\n",
        "\n",
        "python 2 and 3<br>\n",
        "cpython, jpython,python with python ,Rpython\n"
      ]
    },
    {
      "cell_type": "code",
      "metadata": {
        "colab": {
          "base_uri": "https://localhost:8080/"
        },
        "id": "vQZGahxc_I0C",
        "outputId": "380c7a68-5b1d-48c3-d9dd-b738c0b1f1d0"
      },
      "source": [
        "print(\"i learn python\")"
      ],
      "execution_count": 1,
      "outputs": [
        {
          "output_type": "stream",
          "text": [
            "i learn python\n"
          ],
          "name": "stdout"
        }
      ]
    }
  ]
}